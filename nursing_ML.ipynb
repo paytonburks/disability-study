{
 "cells": [
  {
   "cell_type": "markdown",
   "metadata": {},
   "source": [
    "# Nursing Study\n",
    "### Explores disability datasets using various Machine Learning models\n",
    "Payton Burks  \n",
    "10/20/2022"
   ]
  },
  {
   "cell_type": "code",
   "execution_count": 1,
   "metadata": {},
   "outputs": [],
   "source": [
    "import matplotlib.pyplot as plt\n",
    "import numpy as np\n",
    "import pandas as pd\n",
    "from sklearn import tree\n",
    "from sklearn.model_selection import train_test_split\n",
    "\n",
    "from mysklearn.classification import MyKNeighborsClassifier as kNN\n",
    "\n",
    "# use s4elf assessment var"
   ]
  },
  {
   "cell_type": "markdown",
   "metadata": {},
   "source": [
    "## Prepare Dataframe"
   ]
  },
  {
   "cell_type": "code",
   "execution_count": 2,
   "metadata": {},
   "outputs": [
    {
     "name": "stdout",
     "output_type": "stream",
     "text": [
      "Index(['RUCA_3cat', 'healthstatus_1', 'healthstatus_2ph', 'healthstatus_3mh',\n",
      "       'transp_access', 'pas_yn_88', 'pas_yn_99', 'commpart_1', 'commpart_3',\n",
      "       'commpart_5', 'himde_ssi_apply', 'himde_ssdi_apply', 'insurance_esi_yn',\n",
      "       'insurance_mrkt_yn', 'emp_yn', 'emp_hrs', 'demo_age', 'demo_gender',\n",
      "       'demo_raceeth_categorical', 'demo_marital', 'demo_kids',\n",
      "       'demo_education', 'demo_hrms_disability', 'demo_dis_ageonset',\n",
      "       'demo_dis_primarytype', 'demo_dis_selfcat', 'demo_acs_deaf',\n",
      "       'demo_acs_vision'],\n",
      "      dtype='object')\n"
     ]
    }
   ],
   "source": [
    "# prepare df, create functions\n",
    "df = pd.read_csv(\"data/CHRILexcel.csv\")\n",
    "df= df.drop(df.columns[0], axis=1)\n",
    "\n",
    "print(df.columns)\n",
    "\n",
    "def create_n_dim_array(df, cols):\n",
    "    X = []\n",
    "    for i in range(len(df)):\n",
    "        row_data = []\n",
    "        for col in cols:\n",
    "            row_data.append(df[col][i])\n",
    "        X.append(row_data)\n",
    "\n",
    "    return X"
   ]
  },
  {
   "cell_type": "markdown",
   "metadata": {},
   "source": [
    "## Decision Tree\n",
    "Begin exploration of data using Decision Trees.  \n",
    "* Pull out response variables\n",
    "    * emp_yn (whether or not employed) - discrete\n",
    "    * emp_hrs (hrs of employment) - continuous  \n",
    "* Load in all other variables into Decision Tree training set"
   ]
  },
  {
   "cell_type": "code",
   "execution_count": 3,
   "metadata": {},
   "outputs": [],
   "source": [
    "def create_model(X, y, model, ft_names, figname, cls_names=None):\n",
    "    clf = model\n",
    "    clf = clf.fit(X, y)\n",
    "\n",
    "    plt.figure(figsize=(30,30))\n",
    "    tree.plot_tree(clf, feature_names=ft_names, class_names=cls_names, fontsize=25, filled=True)\n",
    "    plt.savefig('output/'+figname)\n",
    "    plt.close()\n",
    "\n",
    "index_names = ['RUCA_3cat', 'healthstatus_1', 'healthstatus_2ph', 'healthstatus_3mh',\n",
    "                'transp_access', 'pas_yn_88', 'pas_yn_99', 'commpart_1', 'commpart_3',\n",
    "                'commpart_5', 'himde_ssi_apply', 'himde_ssdi_apply', 'insurance_esi_yn',\n",
    "                'insurance_mrkt_yn', 'demo_age', 'demo_gender',\n",
    "                'demo_raceeth_categorical', 'demo_marital', 'demo_kids',\n",
    "                'demo_education', 'demo_hrms_disability', 'demo_dis_ageonset',\n",
    "                'demo_dis_primarytype', 'demo_dis_selfcat', 'demo_acs_deaf',\n",
    "                'demo_acs_vision']\n",
    "\n",
    "X = create_n_dim_array(df, index_names)\n",
    "\n",
    "y_yn = create_n_dim_array(df, ['emp_yn'])\n",
    "y_hrs = create_n_dim_array(df, ['emp_hrs'])\n",
    "\n",
    "create_model(X, y_yn, tree.DecisionTreeClassifier(max_depth=3), index_names, 'Raw Classifier.png', ['not employed', 'employed'])\n",
    "create_model(X, y_hrs, tree.DecisionTreeRegressor(max_depth=3), index_names, 'Raw Regressor.png')"
   ]
  },
  {
   "cell_type": "markdown",
   "metadata": {},
   "source": [
    "## Decision Tree pt. 2\n",
    "Edits\n",
    "* Joined **pas_yn_88** and **pas_yn_99** into one column, **pas_yn** based on if a patient answered 1 - _(yes I need help)_ - in either column\n",
    "* Removed the following based on Jesus' report on significance:\n",
    "    * **commpart_3, commpart_3, commpart_5, himde_ssi_apply, insurance_esi_yn,   \n",
    "    insurance_mrkt_yn, demo_hrms_disability, demo_dis_selfcat, demo_acs_deaf**"
   ]
  },
  {
   "cell_type": "code",
   "execution_count": 4,
   "metadata": {},
   "outputs": [],
   "source": [
    "# make pas_yn a single column\n",
    "pas_yn = []\n",
    "for i in range(len(df['pas_yn_88'])):\n",
    "    if df['pas_yn_88'][i] == 1 and df['pas_yn_99'][i] == 1:\n",
    "        pas_yn.append(1)\n",
    "    else:\n",
    "        pas_yn.append(0)\n",
    "df['pas_yn'] = pas_yn\n",
    "\n",
    "# remove irrelevant vars\n",
    "df2= df.drop(['pas_yn_88', 'pas_yn_99', 'commpart_3', 'commpart_5', 'himde_ssi_apply', 'insurance_esi_yn',\n",
    "                'insurance_mrkt_yn', 'demo_hrms_disability', 'demo_dis_selfcat', 'demo_acs_deaf', 'emp_yn', 'emp_hrs'], axis=1)\n",
    "\n",
    "X_mod = create_n_dim_array(df2, df2.columns)\n",
    "\n",
    "# EMP YN\n",
    "create_model(X_mod, y_yn, tree.DecisionTreeClassifier(max_depth=3), df2.columns, 'Modified Employment Classifier', ['not employed', 'employed'])\n",
    "# EMP HRS\n",
    "create_model(X_mod, y_hrs, tree.DecisionTreeRegressor(max_depth=3), df2.columns, 'Modified Employment Hours Regressor')"
   ]
  },
  {
   "cell_type": "markdown",
   "metadata": {},
   "source": [
    "## Decision Tree pt. 3\n",
    "Edits\n",
    "* Removed all variables related to insurance\n",
    "* Entirely removed **pas_yn** variable"
   ]
  },
  {
   "cell_type": "code",
   "execution_count": 5,
   "metadata": {},
   "outputs": [],
   "source": [
    "df3 = df2.drop(['himde_ssdi_apply'], axis=1)\n",
    "X_mod_2 = create_n_dim_array(df3, df3.columns)\n",
    "\n",
    "# EMP YN\n",
    "create_model(X_mod_2, y_yn, tree.DecisionTreeClassifier(max_depth=3), df3.columns, 'INS_PAS Modified Employment Classifier', ['not employed', 'employed'])\n",
    "# EMP HRS\n",
    "create_model(X_mod_2, y_hrs, tree.DecisionTreeRegressor(max_depth=3), df3.columns, 'INS_PAS Modified Employment Regressor')"
   ]
  },
  {
   "cell_type": "markdown",
   "metadata": {},
   "source": [
    "## Other Dataset - SPS Data\n",
    "New dataset, removed missing data with regex and numpy libraries"
   ]
  },
  {
   "cell_type": "code",
   "execution_count": 104,
   "metadata": {},
   "outputs": [
    {
     "name": "stdout",
     "output_type": "stream",
     "text": [
      "Index(['KUID', 'expansion_status', 'himde_ssi_approved', 'himde_ssdi_approved',\n",
      "       'benefits_yn', 'insur_trans', 'healthstatus_1', 'HS1_trans',\n",
      "       'healthstatus_2ph', 'healthstatus_3mh', 'healthstatus_4',\n",
      "       'healthstatus_5smoking', 'healthstatus_8', 'healthstatus_9',\n",
      "       'healthstatus_10', 'assist_Trans', 'pas_job', 'transp_access',\n",
      "       'RUCA_3cat', 'income_householdsize', 'income_fpl_level_2019',\n",
      "       'income_fpl_level', 'demo_age', 'demo_age_group', 'demo_gender',\n",
      "       'demo_raceeth_categorical', 'demo_marital', 'demo_kids',\n",
      "       'demo_education', 'demo_dis_ageonset', 'demo_dis_primarytype_2020',\n",
      "       'demo_livewith'],\n",
      "      dtype='object')\n"
     ]
    }
   ],
   "source": [
    "# prepare dataframe\n",
    "SPS_df = pd.read_csv(\"data/SPS.csv\")\n",
    "SPS_df = SPS_df.replace(r'^\\s*$', np.nan, regex=True)\n",
    "SPS_df = SPS_df.dropna(axis=0)\n",
    "SPS_df = SPS_df.reset_index()\n",
    "SPS_df = SPS_df.drop(SPS_df.columns[0], axis=1)\n",
    "\n",
    "# grab response variables\n",
    "y_sps_hrs = SPS_df['emp_hrs']\n",
    "y_sps_yn = SPS_df['emp_Trans']\n",
    "\n",
    "SPS_df = SPS_df.drop(['emp_hrs', 'emp_Trans'], axis=1)\n",
    "\n",
    "print(SPS_df.columns)\n",
    "\n",
    "X3 = create_n_dim_array(SPS_df, SPS_df.columns)\n",
    "\n",
    "# EMP YN\n",
    "create_model(X3, y_sps_yn, tree.DecisionTreeClassifier(max_depth=3), SPS_df.columns, 'SPS Classifier', ['not employed', 'employed'])\n",
    "# EMP HRS\n",
    "create_model(X3, y_sps_hrs, tree.DecisionTreeRegressor(max_depth=3), SPS_df.columns, 'SPS Regressor')"
   ]
  },
  {
   "cell_type": "markdown",
   "metadata": {},
   "source": [
    "## Another Dataset\n",
    "\n",
    "Revised CHRIL - 11/10/2022"
   ]
  },
  {
   "cell_type": "code",
   "execution_count": 92,
   "metadata": {},
   "outputs": [
    {
     "name": "stdout",
     "output_type": "stream",
     "text": [
      "Index(['emp_yn', 'emp_hrs', 'RUCA_3cat', 'expansion_status', 'MMC_status',\n",
      "       'healthstatus_1', 'healthstatus_2ph', 'healthstatus_3mh',\n",
      "       'healthstatus_4', 'healthstatus_5smoking', 'healthstatus_8',\n",
      "       'healthstatus_9', 'healthstatus_10', 'transp_access', 'pas_yn_1',\n",
      "       'pas_yn_2', 'pas_yn_3', 'pas_yn_4', 'pas_yn_5', 'pas_yn_7', 'pas_job',\n",
      "       'pas_allowemp', 'commpart_5', 'commpart_10', 'himde_ssi_apply',\n",
      "       'himde_ssi_approved', 'himde_ssdi_apply', 'himde_ssdi_approved',\n",
      "       'benefits_yn', 'uninsured_yn', 'noesi_offered', 'income_householdsize',\n",
      "       'income_fpl_level_2019', 'demo_age', 'demo_gender',\n",
      "       'demo_raceeth_categorical', 'demo_marital', 'demo_kids',\n",
      "       'demo_education', 'demo_hrms_disability', 'demo_dis_selfcat',\n",
      "       'demo_autism', 'demo_wgss_vision', 'demo_wgss_hear', 'demo_wgss_rc',\n",
      "       'demo_wgss_amb', 'demo_wgss_selfcare', 'demo_wgss_comm',\n",
      "       'demo_acs_deaf', 'demo_acs_vision', 'demo_acs_crd', 'demo_acs_amb',\n",
      "       'demo_acs_adl', 'demo_acs_iadl', 'demo_livewith'],\n",
      "      dtype='object')\n"
     ]
    }
   ],
   "source": [
    "rev_df = pd.read_csv(\"data/revCHRIL.csv\")\n",
    "r2 = rev_df.replace(r'^\\s*$', np.nan, regex=True)\n",
    "r2 = r2[r2['emp_yn'].notna()]\n",
    "r2 = r2.reset_index()\n",
    "r2 = r2.drop(['index'], axis=1)\n",
    "\n",
    "insurance = []\n",
    "for i in range(len(r2['insurance_esi_yn'])):\n",
    "    if r2['insurance_esi_yn'][i] == 1 or r2['insurance_mrkt_yn'][i] == 1 or r2['mrkt_yn'][i] == 1 or r2['insurance_mcare_yn'][i] == 1 or r2['insurance_mcaid_yn'][i] == 1 or r2['insurance_tricare_yn'][i] == 1 or r2['insurance_ihs_yn'][i] == 1:\n",
    "        insurance.append(1)\n",
    "    else:\n",
    "        insurance.append(0)\n",
    "\n",
    "r2 = r2.drop(['KUID', 'insurance_esi_yn', 'insurance_mrkt_yn', 'mrkt_yn', 'insurance_mcare_yn', 'insurance_mcaid_yn', 'insurance_tricare_yn', 'insurance_ihs_yn'], axis=1)\n",
    "print(r2.columns)\n",
    "r2.to_csv('new.csv', na_rep='NULL')"
   ]
  },
  {
   "cell_type": "code",
   "execution_count": 116,
   "metadata": {},
   "outputs": [
    {
     "name": "stdout",
     "output_type": "stream",
     "text": [
      "0       1\n",
      "1       2\n",
      "2       1\n",
      "3       1\n",
      "4       1\n",
      "       ..\n",
      "2165    0\n",
      "2166    0\n",
      "2167    1\n",
      "2168    0\n",
      "2169    0\n",
      "Name: emp_yn, Length: 2170, dtype: object\n"
     ]
    }
   ],
   "source": [
    "# remove demo_hrms_disability\n",
    "r3 = r2.drop(['demo_hrms_disability'], axis=1)\n",
    "r3 = r3.dropna(axis=1)\n",
    "\n",
    "# grab response, drop\n",
    "y4 = r3['emp_yn']\n",
    "r3 = r3.drop(['emp_yn'], axis=1)\n",
    "\n",
    "print(y4)\n",
    "\n",
    "X4 = create_n_dim_array(r3, r3.columns)\n",
    "\n",
    "# EMP YN\n",
    "create_model(X4, y4, tree.DecisionTreeClassifier(max_depth=3), r3.columns, 'REV Classifier', cls_names=['WFP', 'SE', 'NE'])"
   ]
  },
  {
   "cell_type": "markdown",
   "metadata": {},
   "source": [
    "## kNN\n",
    "An exploratory analysis of the kNN model, not yet optimized"
   ]
  },
  {
   "cell_type": "code",
   "execution_count": 8,
   "metadata": {},
   "outputs": [
    {
     "name": "stdout",
     "output_type": "stream",
     "text": [
      "0.7647058823529411\n"
     ]
    }
   ],
   "source": [
    "# select variables to be used\n",
    "y1 = df[\"emp_yn\"]\n",
    "X1 = create_n_dim_array(df, [\"RUCA_3cat\", \"insurance_esi_yn\"])\n",
    "y1 = y1.values.tolist()\n",
    "\n",
    "# train-test split\n",
    "X_train, X_test, y_train, y_test = train_test_split(X1, y1, test_size=0.1)\n",
    "\n",
    "# kNN\n",
    "test_kNN = kNN()\n",
    "test_kNN.fit(X_train, y_train)\n",
    "\n",
    "pred = test_kNN.predict(X_test)\n",
    "\n",
    "# accuracy\n",
    "cor = 0\n",
    "for i in range(len(pred)):\n",
    "    if y_test[i] == pred[i]:\n",
    "        cor+=1\n",
    "\n",
    "acc = cor/len(X_test)\n",
    "print(acc)"
   ]
  }
 ],
 "metadata": {
  "kernelspec": {
   "display_name": "Python 3.8.3 ('base')",
   "language": "python",
   "name": "python3"
  },
  "language_info": {
   "codemirror_mode": {
    "name": "ipython",
    "version": 3
   },
   "file_extension": ".py",
   "mimetype": "text/x-python",
   "name": "python",
   "nbconvert_exporter": "python",
   "pygments_lexer": "ipython3",
   "version": "3.8.3 (default, Jul  2 2020, 17:30:36) [MSC v.1916 64 bit (AMD64)]"
  },
  "orig_nbformat": 4,
  "vscode": {
   "interpreter": {
    "hash": "0f08ad98d56565955c9169e09b4bf1d4bcdca5a3fad31a425127a4b280cd24cc"
   }
  }
 },
 "nbformat": 4,
 "nbformat_minor": 2
}
