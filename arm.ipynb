{
 "cells": [
  {
   "cell_type": "code",
   "execution_count": 2,
   "metadata": {},
   "outputs": [],
   "source": [
    "'''\n",
    "Payton Burks\n",
    "9/28/2022\n",
    "Explores nursing data\n",
    "\n",
    "requires xlrd==1.2.0\n",
    "\n",
    "pt satisfaction\n",
    "pass yn\n",
    "\n",
    "emp hrs\n",
    "emp yn\n",
    "\n",
    "knn model\n",
    "decision tree\n",
    "\n",
    "'''\n",
    "from matplotlib import pyplot\n",
    "import numpy as np\n",
    "from mysklearn import myruleminer, myutils\n",
    "from mysklearn.mypytable import MyPyTable\n",
    "from mysklearn.classification import MyKNeighborsClassifier"
   ]
  },
  {
   "cell_type": "code",
   "execution_count": 3,
   "metadata": {},
   "outputs": [],
   "source": [
    "#preparing data\n",
    "chri = MyPyTable().load_from_file('data/CHRILexcel.csv')\n",
    "\n",
    "# remove index\n",
    "for row in chri.data:\n",
    "    del row[0]\n",
    "# remove index col\n",
    "del chri.column_names[0]\n",
    "\n",
    "myutils.prepend_equal(chri.data, chri.column_names)"
   ]
  },
  {
   "cell_type": "code",
   "execution_count": 16,
   "metadata": {},
   "outputs": [],
   "source": [
    "def ruca(data, cols):\n",
    "    ruca_ = myutils.select_features(data, cols)\n",
    "    ruca_arm = myruleminer.MyAssociationRuleMiner(minsup=.75, minconf=.9)\n",
    "    ruca_arm.fit(ruca_)\n",
    "\n",
    "    ruca_arm.print_association_rules()\n",
    "    print()"
   ]
  },
  {
   "cell_type": "code",
   "execution_count": 17,
   "metadata": {},
   "outputs": [
    {
     "name": "stdout",
     "output_type": "stream",
     "text": [
      "#    rule    support    confidence    lift\n",
      "---  ------  ---------  ------------  ------\n",
      "\n",
      "#    rule    support    confidence    lift\n",
      "---  ------  ---------  ------------  ------\n",
      "\n",
      "  #  rule                                                     support    confidence    lift\n",
      "---  -----------------------------------------------------  ---------  ------------  ------\n",
      "  1  IF RUCA_3cat=1.0 THEN pas_yn_88=0.0                         0.78          0.94    0.99\n",
      "  2  IF RUCA_3cat=1.0 THEN pas_yn_99=1.0                         0.83          1       1\n",
      "  3  IF pas_yn_99=1.0 THEN pas_yn_88=0.0                         0.95          0.95    1\n",
      "  4  IF pas_yn_88=0.0 THEN pas_yn_99=1.0                         0.95          1       1\n",
      "  5  IF RUCA_3cat=1.0 AND pas_yn_99=1.0 THEN pas_yn_88=0.0       0.78          0.94    0.99\n",
      "  6  IF RUCA_3cat=1.0 AND pas_yn_88=0.0 THEN pas_yn_99=1.0       0.78          1       1\n",
      "  7  IF RUCA_3cat=1.0 THEN pas_yn_99=1.0 AND pas_yn_88=0.0       0.78          0.94    0.99\n",
      "\n",
      "#    rule    support    confidence    lift\n",
      "---  ------  ---------  ------------  ------\n",
      "\n",
      "#    rule    support    confidence    lift\n",
      "---  ------  ---------  ------------  ------\n",
      "\n",
      "#    rule    support    confidence    lift\n",
      "---  ------  ---------  ------------  ------\n",
      "\n",
      "  #  rule                                                        support    confidence    lift\n",
      "---  --------------------------------------------------------  ---------  ------------  ------\n",
      "  1  IF RUCA_3cat=1.0 THEN demo_acs_deaf=0.0                        0.76          0.92    1\n",
      "  2  IF RUCA_3cat=1.0 THEN demo_acs_vision=0.0                      0.76          0.92    1\n",
      "  3  IF demo_acs_vision=0.0 THEN demo_acs_deaf=0.0                  0.86          0.93    1\n",
      "  4  IF demo_acs_deaf=0.0 THEN demo_acs_vision=0.0                  0.86          0.93    1\n",
      "  5  IF demo_raceeth_categorical=6.0 THEN demo_acs_vision=0.0       0.75          0.93    1.01\n",
      "\n"
     ]
    }
   ],
   "source": [
    "ruca(chri.data, [1,2,3,4])\n",
    "ruca(chri.data, [1,5])\n",
    "ruca(chri.data, [1,6,7])\n",
    "#ruca(chri.data, [1,8,9,10])\n",
    "ruca(chri.data, [1,11,12])\n",
    "ruca(chri.data, [1,13,14])\n",
    "ruca(chri.data, [1,15,16])\n",
    "ruca(chri.data, [1,17,18,19,20,21,22,23,24,25,26,27,28,0])"
   ]
  },
  {
   "cell_type": "code",
   "execution_count": 18,
   "metadata": {},
   "outputs": [
    {
     "name": "stdout",
     "output_type": "stream",
     "text": [
      "  #  rule                                                                                 support    confidence    lift\n",
      "---  ---------------------------------------------------------------------------------  ---------  ------------  ------\n",
      "  1  IF RUCA_3cat=1.0 THEN demo_acs_deaf=0.0                                                 0.76          0.92    1\n",
      "  2  IF RUCA_3cat=1.0 THEN demo_acs_vision=0.0                                               0.76          0.92    1\n",
      "  3  IF RUCA_3cat=1.0 THEN pas_yn_88=0.0                                                     0.78          0.94    0.99\n",
      "  4  IF RUCA_3cat=1.0 THEN pas_yn_99=1.0                                                     0.83          1       1\n",
      "  5  IF demo_acs_vision=0.0 THEN demo_acs_deaf=0.0                                           0.86          0.93    1\n",
      "  6  IF demo_acs_deaf=0.0 THEN demo_acs_vision=0.0                                           0.86          0.93    1\n",
      "  7  IF insurance_mrkt_yn=0.0 THEN demo_acs_deaf=0.0                                         0.78          0.93    1\n",
      "  8  IF pas_yn_88=0.0 THEN demo_acs_deaf=0.0                                                 0.88          0.92    1\n",
      "  9  IF demo_acs_deaf=0.0 THEN pas_yn_88=0.0                                                 0.88          0.95    1\n",
      " 10  IF pas_yn_99=1.0 THEN demo_acs_deaf=0.0                                                 0.92          0.92    1\n",
      " 11  IF demo_acs_deaf=0.0 THEN pas_yn_99=1.0                                                 0.92          1       1\n",
      " 12  IF demo_raceeth_categorical=6.0 THEN demo_acs_vision=0.0                                0.75          0.93    1.01\n",
      " 13  IF insurance_mrkt_yn=0.0 THEN demo_acs_vision=0.0                                       0.78          0.92    1\n",
      " 14  IF pas_yn_88=0.0 THEN demo_acs_vision=0.0                                               0.88          0.93    1\n",
      " 15  IF demo_acs_vision=0.0 THEN pas_yn_88=0.0                                               0.88          0.95    1\n",
      " 16  IF pas_yn_99=1.0 THEN demo_acs_vision=0.0                                               0.92          0.92    1\n",
      " 17  IF demo_acs_vision=0.0 THEN pas_yn_99=1.0                                               0.92          1       1\n",
      " 18  IF demo_kids=0.0 THEN pas_yn_99=1.0                                                     0.75          1       1\n",
      " 19  IF demo_raceeth_categorical=6.0 THEN pas_yn_88=0.0                                      0.77          0.96    1.01\n",
      " 20  IF demo_raceeth_categorical=6.0 THEN pas_yn_99=1.0                                      0.81          1       1\n",
      " 21  IF emp_yn=1.0 THEN pas_yn_88=0.0                                                        0.76          0.95    1\n",
      " 22  IF emp_yn=1.0 THEN pas_yn_99=1.0                                                        0.8           1       1\n",
      " 23  IF himde_ssi_apply=0.0 THEN pas_yn_99=1.0                                               0.76          1       1\n",
      " 24  IF insurance_mrkt_yn=0.0 THEN pas_yn_88=0.0                                             0.8           0.95    1\n",
      " 25  IF insurance_mrkt_yn=0.0 THEN pas_yn_99=1.0                                             0.85          1       1\n",
      " 26  IF pas_yn_99=1.0 THEN pas_yn_88=0.0                                                     0.95          0.95    1\n",
      " 27  IF pas_yn_88=0.0 THEN pas_yn_99=1.0                                                     0.95          1       1\n",
      " 28  IF RUCA_3cat=1.0 AND pas_yn_99=1.0 THEN demo_acs_deaf=0.0                               0.76          0.92    1\n",
      " 29  IF RUCA_3cat=1.0 AND demo_acs_deaf=0.0 THEN pas_yn_99=1.0                               0.76          1       1\n",
      " 30  IF RUCA_3cat=1.0 THEN pas_yn_99=1.0 AND demo_acs_deaf=0.0                               0.76          0.92    1\n",
      " 31  IF RUCA_3cat=1.0 AND pas_yn_99=1.0 THEN demo_acs_vision=0.0                             0.76          0.92    1\n",
      " 32  IF RUCA_3cat=1.0 AND demo_acs_vision=0.0 THEN pas_yn_99=1.0                             0.76          1       1\n",
      " 33  IF RUCA_3cat=1.0 THEN pas_yn_99=1.0 AND demo_acs_vision=0.0                             0.76          0.92    1\n",
      " 34  IF RUCA_3cat=1.0 AND pas_yn_99=1.0 THEN pas_yn_88=0.0                                   0.78          0.94    0.99\n",
      " 35  IF RUCA_3cat=1.0 AND pas_yn_88=0.0 THEN pas_yn_99=1.0                                   0.78          1       1\n",
      " 36  IF RUCA_3cat=1.0 THEN pas_yn_99=1.0 AND pas_yn_88=0.0                                   0.78          0.94    0.99\n",
      " 37  IF demo_acs_vision=0.0 AND pas_yn_88=0.0 THEN demo_acs_deaf=0.0                         0.81          0.93    1\n",
      " 38  IF demo_acs_deaf=0.0 AND pas_yn_88=0.0 THEN demo_acs_vision=0.0                         0.81          0.93    1\n",
      " 39  IF demo_acs_deaf=0.0 AND demo_acs_vision=0.0 THEN pas_yn_88=0.0                         0.81          0.95    1\n",
      " 40  IF demo_acs_vision=0.0 AND pas_yn_99=1.0 THEN demo_acs_deaf=0.0                         0.86          0.93    1\n",
      " 41  IF demo_acs_deaf=0.0 AND pas_yn_99=1.0 THEN demo_acs_vision=0.0                         0.86          0.93    1\n",
      " 42  IF demo_acs_deaf=0.0 AND demo_acs_vision=0.0 THEN pas_yn_99=1.0                         0.86          1       1\n",
      " 43  IF demo_acs_vision=0.0 THEN pas_yn_99=1.0 AND demo_acs_deaf=0.0                         0.86          0.93    1\n",
      " 44  IF demo_acs_deaf=0.0 THEN pas_yn_99=1.0 AND demo_acs_vision=0.0                         0.86          0.93    1\n",
      " 45  IF insurance_mrkt_yn=0.0 AND pas_yn_99=1.0 THEN demo_acs_deaf=0.0                       0.78          0.93    1\n",
      " 46  IF demo_acs_deaf=0.0 AND insurance_mrkt_yn=0.0 THEN pas_yn_99=1.0                       0.78          1       1\n",
      " 47  IF insurance_mrkt_yn=0.0 THEN pas_yn_99=1.0 AND demo_acs_deaf=0.0                       0.78          0.93    1\n",
      " 48  IF pas_yn_88=0.0 AND pas_yn_99=1.0 THEN demo_acs_deaf=0.0                               0.88          0.92    1\n",
      " 49  IF demo_acs_deaf=0.0 AND pas_yn_99=1.0 THEN pas_yn_88=0.0                               0.88          0.95    1\n",
      " 50  IF demo_acs_deaf=0.0 AND pas_yn_88=0.0 THEN pas_yn_99=1.0                               0.88          1       1\n",
      " 51  IF pas_yn_88=0.0 THEN pas_yn_99=1.0 AND demo_acs_deaf=0.0                               0.88          0.92    1\n",
      " 52  IF demo_acs_deaf=0.0 THEN pas_yn_99=1.0 AND pas_yn_88=0.0                               0.88          0.95    1\n",
      " 53  IF demo_raceeth_categorical=6.0 AND pas_yn_99=1.0 THEN demo_acs_vision=0.0              0.75          0.93    1.01\n",
      " 54  IF demo_acs_vision=0.0 AND demo_raceeth_categorical=6.0 THEN pas_yn_99=1.0              0.75          1       1\n",
      " 55  IF demo_raceeth_categorical=6.0 THEN pas_yn_99=1.0 AND demo_acs_vision=0.0              0.75          0.93    1.01\n",
      " 56  IF insurance_mrkt_yn=0.0 AND pas_yn_99=1.0 THEN demo_acs_vision=0.0                     0.78          0.92    1\n",
      " 57  IF demo_acs_vision=0.0 AND insurance_mrkt_yn=0.0 THEN pas_yn_99=1.0                     0.78          1       1\n",
      " 58  IF insurance_mrkt_yn=0.0 THEN pas_yn_99=1.0 AND demo_acs_vision=0.0                     0.78          0.92    1\n",
      " 59  IF pas_yn_88=0.0 AND pas_yn_99=1.0 THEN demo_acs_vision=0.0                             0.88          0.93    1\n",
      " 60  IF demo_acs_vision=0.0 AND pas_yn_99=1.0 THEN pas_yn_88=0.0                             0.88          0.95    1\n",
      " 61  IF demo_acs_vision=0.0 AND pas_yn_88=0.0 THEN pas_yn_99=1.0                             0.88          1       1\n",
      " 62  IF pas_yn_88=0.0 THEN pas_yn_99=1.0 AND demo_acs_vision=0.0                             0.88          0.93    1\n",
      " 63  IF demo_acs_vision=0.0 THEN pas_yn_99=1.0 AND pas_yn_88=0.0                             0.88          0.95    1\n",
      " 64  IF demo_raceeth_categorical=6.0 AND pas_yn_99=1.0 THEN pas_yn_88=0.0                    0.77          0.96    1.01\n",
      " 65  IF demo_raceeth_categorical=6.0 AND pas_yn_88=0.0 THEN pas_yn_99=1.0                    0.77          1       1\n",
      " 66  IF demo_raceeth_categorical=6.0 THEN pas_yn_99=1.0 AND pas_yn_88=0.0                    0.77          0.96    1.01\n",
      " 67  IF emp_yn=1.0 AND pas_yn_99=1.0 THEN pas_yn_88=0.0                                      0.76          0.95    1\n",
      " 68  IF emp_yn=1.0 AND pas_yn_88=0.0 THEN pas_yn_99=1.0                                      0.76          1       1\n",
      " 69  IF emp_yn=1.0 THEN pas_yn_99=1.0 AND pas_yn_88=0.0                                      0.76          0.95    1\n",
      " 70  IF insurance_mrkt_yn=0.0 AND pas_yn_99=1.0 THEN pas_yn_88=0.0                           0.8           0.95    1\n",
      " 71  IF insurance_mrkt_yn=0.0 AND pas_yn_88=0.0 THEN pas_yn_99=1.0                           0.8           1       1\n",
      " 72  IF insurance_mrkt_yn=0.0 THEN pas_yn_99=1.0 AND pas_yn_88=0.0                           0.8           0.95    1\n",
      " 73  IF demo_acs_vision=0.0 AND pas_yn_88=0.0 AND pas_yn_99=1.0 THEN demo_acs_deaf=0.0       0.81          0.93    1\n",
      " 74  IF demo_acs_deaf=0.0 AND pas_yn_88=0.0 AND pas_yn_99=1.0 THEN demo_acs_vision=0.0       0.81          0.93    1\n",
      " 75  IF demo_acs_deaf=0.0 AND demo_acs_vision=0.0 AND pas_yn_99=1.0 THEN pas_yn_88=0.0       0.81          0.95    1\n",
      " 76  IF demo_acs_deaf=0.0 AND demo_acs_vision=0.0 AND pas_yn_88=0.0 THEN pas_yn_99=1.0       0.81          1       1\n",
      " 77  IF demo_acs_vision=0.0 AND pas_yn_88=0.0 THEN pas_yn_99=1.0 AND demo_acs_deaf=0.0       0.81          0.93    1\n",
      " 78  IF demo_acs_deaf=0.0 AND pas_yn_88=0.0 THEN pas_yn_99=1.0 AND demo_acs_vision=0.0       0.81          0.93    1\n",
      " 79  IF demo_acs_deaf=0.0 AND demo_acs_vision=0.0 THEN pas_yn_99=1.0 AND pas_yn_88=0.0       0.81          0.95    1\n",
      "\n"
     ]
    }
   ],
   "source": [
    "ruca(chri.data, list(range(0,28)))"
   ]
  }
 ],
 "metadata": {
  "kernelspec": {
   "display_name": "Python 3.8.3 ('base')",
   "language": "python",
   "name": "python3"
  },
  "language_info": {
   "codemirror_mode": {
    "name": "ipython",
    "version": 3
   },
   "file_extension": ".py",
   "mimetype": "text/x-python",
   "name": "python",
   "nbconvert_exporter": "python",
   "pygments_lexer": "ipython3",
   "version": "3.8.3"
  },
  "orig_nbformat": 4,
  "vscode": {
   "interpreter": {
    "hash": "0f08ad98d56565955c9169e09b4bf1d4bcdca5a3fad31a425127a4b280cd24cc"
   }
  }
 },
 "nbformat": 4,
 "nbformat_minor": 2
}
